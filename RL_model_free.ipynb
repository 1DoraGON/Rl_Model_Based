{
  "cells": [
    {
      "cell_type": "code",
      "execution_count": 1,
      "metadata": {
        "colab": {
          "base_uri": "https://localhost:8080/"
        },
        "id": "h4xWsBMp2W2O",
        "outputId": "4877ba13-8fc2-442e-b351-5814296d8114"
      },
      "outputs": [],
      "source": [
        "#!pip install gym[mujoco]"
      ]
    },
    {
      "cell_type": "markdown",
      "metadata": {
        "id": "djlzjO6Hm2jr"
      },
      "source": [
        "## Import Libraries"
      ]
    },
    {
      "cell_type": "code",
      "execution_count": 2,
      "metadata": {
        "id": "fnoQiOlb80Tw"
      },
      "outputs": [],
      "source": [
        "import numpy as np\n",
        "import pandas as pd\n",
        "from collections import deque\n",
        "import matplotlib.pyplot as plt\n",
        "\n",
        "# PyTorch\n",
        "import torch\n",
        "import torch.nn as nn\n",
        "import torch.nn.functional as F\n",
        "import torch.optim as optim\n",
        "from torch.distributions import Categorical\n",
        "import torch.distributions as distributions\n",
        "\n",
        "# Gym\n",
        "import gym\n"
      ]
    },
    {
      "cell_type": "markdown",
      "metadata": {
        "colab": {
          "base_uri": "https://localhost:8080/"
        },
        "id": "fMQ7cQCngC93",
        "outputId": "2716a53f-e497-4cd6-d3c5-66f36a7d51a9"
      },
      "source": [
        "## Setup the Environement"
      ]
    },
    {
      "cell_type": "code",
      "execution_count": 3,
      "metadata": {
        "colab": {
          "base_uri": "https://localhost:8080/"
        },
        "id": "zV9d4B3T3wEm",
        "outputId": "06509373-1348-4613-8fd1-97ae176c2474"
      },
      "outputs": [],
      "source": [
        "env_id = \"Humanoid-v4\"\n",
        "# Create the env\n",
        "env = gym.make(env_id)\n",
        "\n",
        "# Create the evaluation env\n",
        "eval_env = gym.make(env_id)\n",
        "\n",
        "# Get the state space and action space\n",
        "s_size = env.observation_space.shape[0]\n",
        "a_size = env.action_space.shape[0]"
      ]
    },
    {
      "cell_type": "markdown",
      "metadata": {
        "collapsed": false,
        "id": "f-e1X_FB80Tx"
      },
      "source": [
        "# Agent: Playing MuJoCo Games 🤖\n",
        "### Please Check The Gym Website for more info about the following Envs\n",
        "\n",
        "- The pole Angle is greater than ±12°\n",
        "- Cart Position is greater than ±2.4\n",
        "- Episode length is greater than 500"
      ]
    },
    {
      "cell_type": "markdown",
      "metadata": {
        "collapsed": false,
        "id": "0k5aFS7r80Tx"
      },
      "source": [
        "## Let's build the A2C algo\n"
      ]
    },
    {
      "cell_type": "code",
      "execution_count": 4,
      "metadata": {
        "id": "KHRw6g8Y80Ty"
      },
      "outputs": [],
      "source": [
        "#Using a neural network to learn our actor (policy) parameters\n",
        "\n",
        "class Actor(nn.Module):\n",
        "    def __init__(self, s_size, a_size, h_size):\n",
        "        super(Actor, self).__init__()\n",
        "        self.fc1 = nn.Linear(s_size, h_size, dtype=torch.float32)\n",
        "        self.fc2 = nn.Linear(h_size, a_size, dtype=torch.float32)\n",
        "        self.double()\n",
        "\n",
        "    def forward(self, x):\n",
        "        x = F.relu(self.fc1(x))\n",
        "        x = torch.tanh(self.fc2(x))  # Apply tanh activation for bounded output in [-1, 1]\n",
        "        return x\n",
        "\n",
        "    def act(self, state):\n",
        "        # print('here here')\n",
        "        # print(state)\n",
        "        mean = self.forward(state)\n",
        "        # print('mean')\n",
        "        # print(mean)\n",
        "        std_dev = torch.ones_like(mean)  # You might want to learn a parameter for the standard deviation as well\n",
        "        # print(std_dev)\n",
        "        distribution = distributions.Normal(mean, std_dev)\n",
        "        # print(distribution)\n",
        "\n",
        "        action = distribution.sample()\n",
        "        # print('action')\n",
        "        # print(action)\n",
        "        action = torch.clamp(action, -1.0, 1.0)  # Ensure actions are within the valid range\n",
        "\n",
        "        # print('log_prob')\n",
        "        log_prob = distribution.log_prob(action)\n",
        "        # print(log_prob)\n",
        "\n",
        "        # print(log_prob)\n",
        "        return torch.tensor(action), log_prob"
      ]
    },
    {
      "cell_type": "code",
      "execution_count": 5,
      "metadata": {
        "id": "kiUrZ8K980Ty"
      },
      "outputs": [],
      "source": [
        "#Using a neural network to learn state value\n",
        "class Critic(nn.Module):\n",
        "\n",
        "    #Takes in state\n",
        "    def __init__(self, s_size, h_size):\n",
        "        super(Critic, self).__init__()\n",
        "\n",
        "        # two fully connected layers\n",
        "        # add code here\n",
        "        self.input_layer = nn.Linear(s_size, h_size)\n",
        "        # add code here\n",
        "        self.output_layer = nn.Linear(h_size, 1)\n",
        "        self.double()\n",
        "\n",
        "    def forward(self, x):\n",
        "\n",
        "        #input layer\n",
        "        x = self.input_layer(x)\n",
        "\n",
        "        #activiation relu\n",
        "        x = F.relu(x)\n",
        "\n",
        "        #get state value\n",
        "        state_value = self.output_layer(x)\n",
        "\n",
        "        return state_value\n"
      ]
    },
    {
      "cell_type": "code",
      "execution_count": 6,
      "metadata": {
        "id": "DBXD2cIz80Tz"
      },
      "outputs": [],
      "source": [
        "def computer_cumulative_reward(rewards, max_t,gamma):\n",
        "        returns = deque(maxlen=max_t)\n",
        "        n_steps = len(rewards)\n",
        "        for t in range(n_steps)[::-1]:\n",
        "          disc_return_t = (returns[0] if len(returns)>0 else 0)\n",
        "          returns.appendleft( rewards[t]+gamma*disc_return_t)\n",
        "        return returns"
      ]
    },
    {
      "cell_type": "code",
      "execution_count": 7,
      "metadata": {
        "id": "7_nsP5_880Tz"
      },
      "outputs": [],
      "source": [
        "def returns_standardization(returns):\n",
        "        eps = np.finfo(np.float32).eps.item()\n",
        "        ## eps is the smallest representable float, which is\n",
        "        # added to the standard deviation of the returns to avoid numerical instabilities\n",
        "        returns = torch.tensor(returns)\n",
        "        returns = (returns - returns.mean()) / (returns.std() + eps)\n",
        "\n",
        "        return returns"
      ]
    },
    {
      "cell_type": "code",
      "execution_count": 8,
      "metadata": {
        "id": "QpALI-3X80Tz"
      },
      "outputs": [],
      "source": [
        "def train_critic(criticOptimizer, returns,state_values):\n",
        "        # print(11)\n",
        "        state_values= torch.stack(state_values).squeeze()\n",
        "        # print(12)\n",
        "\n",
        "        critic_loss= F.mse_loss(torch.tensor(returns, dtype=torch.double), state_values.squeeze())\n",
        "        #critic_loss = critic_loss.float().clone()\n",
        "\n",
        "        # print(critic_loss.dtype)\n",
        "\n",
        "        # Backpropagate crtic\n",
        "        criticOptimizer.zero_grad()\n",
        "        critic_loss.backward()\n",
        "        # print(14)\n",
        "        criticOptimizer.step()\n"
      ]
    },
    {
      "cell_type": "code",
      "execution_count": 9,
      "metadata": {},
      "outputs": [],
      "source": [
        "device = torch.device(\"cuda\" if torch.cuda.is_available() else \"cpu\")\n"
      ]
    },
    {
      "cell_type": "code",
      "execution_count": 10,
      "metadata": {
        "id": "W3kNSEkQ80T0"
      },
      "outputs": [],
      "source": [
        "cartpole_hyperparameters = {\n",
        "    \"h_size\": 64,\n",
        "    \"n_training_episodes\": 2000,\n",
        "    \"n_evaluation_episodes\": 10,\n",
        "    \"max_t\": 1000,\n",
        "    \"gamma\": 1.0,\n",
        "    \"lr\": 1e-2,\n",
        "    \"env_id\": env_id,\n",
        "    \"state_space\": s_size,\n",
        "    \"action_space\": a_size,\n",
        "}"
      ]
    },
    {
      "cell_type": "code",
      "execution_count": 11,
      "metadata": {
        "id": "VYl5AheN80T0"
      },
      "outputs": [],
      "source": [
        "# Create actor and place it to the device\n",
        "cartpole_actor = Actor(cartpole_hyperparameters['state_space'],cartpole_hyperparameters['action_space'],cartpole_hyperparameters['h_size'])\n",
        "\n",
        "cartpole_actorOptimizer = torch.optim.Adam(cartpole_actor.parameters())"
      ]
    },
    {
      "cell_type": "code",
      "execution_count": 12,
      "metadata": {
        "id": "QHjfAznI80T0"
      },
      "outputs": [],
      "source": [
        "# Create critic and place it to the device\n",
        "cartpole_critic = Critic(cartpole_hyperparameters['state_space'],cartpole_hyperparameters['h_size'])\n",
        "cartpole_criticOptimizer = torch.optim.Adam(cartpole_critic.parameters())"
      ]
    },
    {
      "cell_type": "code",
      "execution_count": 13,
      "metadata": {
        "id": "iulOoh9yr2hc"
      },
      "outputs": [],
      "source": [
        "def generate_trajectory(actor, critic, max_t):\n",
        "        saved_log_probs = []\n",
        "        rewards = []\n",
        "        state_values=[]\n",
        "\n",
        "        state, _ = env.reset()\n",
        "        # print(11)\n",
        "        for t in range(max_t):\n",
        "            #state=torch.from_numpy(state).float().unsqueeze(0).to(device)\n",
        "            state = torch.from_numpy(state)\n",
        "\n",
        "            # print(state)\n",
        "            action, log_prob =  actor.act(state)\n",
        "            # print(action)\n",
        "            #action = torch.from_numpy(action).float().unsqueeze(0).to(device)\n",
        "            # print(13)\n",
        "\n",
        "            # get the state value from th critic network\n",
        "            # print(state)\n",
        "            state_val= critic(state)#!!!!!!!!!\n",
        "            # print('state value from critic -----: ')\n",
        "            # print(state_val)\n",
        "            # print('after state')\n",
        "            next_state, reward, done, _, _ = env.step(action.numpy().astype(np.float32))\n",
        "            # print('next_state---------')\n",
        "            # print(next_state.dtype)\n",
        "            # print('reward---------')\n",
        "            # print(reward.dtype)\n",
        "            # print('done---------')\n",
        "            # print(done.dtype)\n",
        "\n",
        "            # add te obtained results to their relative lists ==> saved_log_probs, rewards, state_values\n",
        "\n",
        "            # add code here\n",
        "            saved_log_probs.append(log_prob)\n",
        "            # print('next_state')\n",
        "            # print(next_state)\n",
        "            # print('reward')\n",
        "            # print(reward)\n",
        "            # print('rewards')\n",
        "            # print(rewards)\n",
        "            # add code here\n",
        "            rewards.append(reward)\n",
        "            # print(17)\n",
        "            # add code here\n",
        "            state_values.append(state_val)\n",
        "            # print(18)\n",
        "\n",
        "            state=next_state\n",
        "            # print(19)\n",
        "\n",
        "            if done:\n",
        "                # print('break ------------------ ',t)\n",
        "                break\n",
        "\n",
        "        return  saved_log_probs, rewards, state_values"
      ]
    },
    {
      "cell_type": "code",
      "execution_count": null,
      "metadata": {
        "id": "opS6535gkUVj"
      },
      "outputs": [],
      "source": []
    },
    {
      "cell_type": "code",
      "execution_count": 14,
      "metadata": {
        "id": "RgmvznF71ZxG"
      },
      "outputs": [],
      "source": [
        "def Actor_Critic(actor,critic, actorOptimizer,criticOptimizer, n_training_episodes, max_t, gamma, print_every):\n",
        "    # Help us to calculate the score during the training\n",
        "    scores_deque = deque(maxlen=100)\n",
        "    scores = []\n",
        "\n",
        "    for i_episode in range(1, n_training_episodes+1):\n",
        "\n",
        "        # Generate an episode\n",
        "        #add code here\n",
        "        # print('---____----EPISODE---____----- ',i_episode)\n",
        "\n",
        "        saved_log_probs, rewards, state_values = generate_trajectory(actor, critic, max_t)\n",
        "        # print(len(state_values), '------LENGTH---------')\n",
        "        # print(2)\n",
        "        scores_deque.append(sum(rewards))\n",
        "        scores.append(sum(rewards))\n",
        "        # print('rewards')\n",
        "        # print(rewards)\n",
        "        # print('scores')\n",
        "        # print(scores)\n",
        "        # calculate the return\n",
        "        returns = computer_cumulative_reward(rewards,max_t,gamma)\n",
        "        # print(3)\n",
        "\n",
        "        ## standardization of the returns is employed to make training more stable\n",
        "        returns=returns_standardization(returns)\n",
        "\n",
        "        # Train the Critic network\n",
        "        #add code here\n",
        "        train_critic(criticOptimizer, returns,state_values)\n",
        "        # print(5)\n",
        "\n",
        "        # Train the Actor network\n",
        "        #add code here\n",
        "        train_actor(actorOptimizer,saved_log_probs, returns,state_values)\n",
        "        # print(6)\n",
        "\n",
        "\n",
        "\n",
        "        if i_episode % print_every == 0:\n",
        "            print('Episode {}\\tAverage Score: {:.2f}'.format(i_episode, np.mean(scores_deque)))\n",
        "\n",
        "    return scores"
      ]
    },
    {
      "cell_type": "code",
      "execution_count": 15,
      "metadata": {
        "id": "JScfVAsrKts_"
      },
      "outputs": [],
      "source": [
        "def train_actor(actorOptimizer,saved_log_probs, returns,state_values):\n",
        "\n",
        "\n",
        "        # print('train actor ---------------------')\n",
        "        #state_values = state_values\n",
        "        state_values= torch.stack(state_values).squeeze()\n",
        "        # print(state_values)\n",
        "        #calculate Advantage for actor\n",
        "        advantages = returns - state_values\n",
        "        advantages = [g - val for g, val in zip(returns,state_values)]\n",
        "\n",
        "        #convect the advantages to a tensor\n",
        "        advantages = torch.Tensor(advantages).to(device)\n",
        "\n",
        "        actor_loss = []\n",
        "        # compute the actor loss\n",
        "        # add code here\n",
        "        # print(saved_log_probs)\n",
        "        for log_prob, advantage in zip(saved_log_probs, advantages):\n",
        "          actor_loss.append(-log_prob * advantage)\n",
        "          # print('Adv:', advantage)\n",
        "          # print('Dimensions:', log_prob.shape, advantage.shape)\n",
        "\n",
        "\n",
        "        # print(actor_loss)\n",
        "        # print('we are reaching this 0')\n",
        "        actor_loss = torch.cat(actor_loss).sum()\n",
        "        # print('we are reaching this 1')\n",
        "        actorOptimizer.zero_grad()\n",
        "        # print('we are reaching this 2')\n",
        "        actor_loss.backward()\n",
        "        # print('we are not reaching this 3')\n",
        "        actorOptimizer.step()\n",
        "        # print('we are not reaching this 4')"
      ]
    },
    {
      "cell_type": "code",
      "execution_count": null,
      "metadata": {
        "id": "PPDFrMc4s9_z"
      },
      "outputs": [],
      "source": []
    },
    {
      "cell_type": "code",
      "execution_count": 16,
      "metadata": {
        "colab": {
          "base_uri": "https://localhost:8080/"
        },
        "id": "dTZzesUs13YU",
        "outputId": "30fd1f41-be0a-47d7-dc29-18ddfa824d4d"
      },
      "outputs": [
        {
          "name": "stderr",
          "output_type": "stream",
          "text": [
            "C:\\Users\\DELL\\AppData\\Local\\Temp\\ipykernel_10820\\2916603024.py:36: UserWarning: To copy construct from a tensor, it is recommended to use sourceTensor.clone().detach() or sourceTensor.clone().detach().requires_grad_(True), rather than torch.tensor(sourceTensor).\n",
            "  return torch.tensor(action), log_prob\n",
            "c:\\Users\\DELL\\AppData\\Local\\Programs\\Python\\Python310\\lib\\site-packages\\gym\\utils\\passive_env_checker.py:233: DeprecationWarning: `np.bool8` is a deprecated alias for `np.bool_`.  (Deprecated NumPy 1.24)\n",
            "  if not isinstance(terminated, (bool, np.bool8)):\n",
            "C:\\Users\\DELL\\AppData\\Local\\Temp\\ipykernel_10820\\297310716.py:6: UserWarning: To copy construct from a tensor, it is recommended to use sourceTensor.clone().detach() or sourceTensor.clone().detach().requires_grad_(True), rather than torch.tensor(sourceTensor).\n",
            "  critic_loss= F.mse_loss(torch.tensor(returns, dtype=torch.double), state_values.squeeze())\n"
          ]
        },
        {
          "name": "stdout",
          "output_type": "stream",
          "text": [
            "Episode 100\tAverage Score: 146.56\n",
            "Episode 200\tAverage Score: 193.45\n",
            "Episode 300\tAverage Score: 224.67\n",
            "Episode 400\tAverage Score: 319.15\n",
            "Episode 500\tAverage Score: 234.04\n",
            "Episode 600\tAverage Score: 229.21\n",
            "Episode 700\tAverage Score: 273.48\n",
            "Episode 800\tAverage Score: 293.05\n",
            "Episode 900\tAverage Score: 229.48\n",
            "Episode 1000\tAverage Score: 299.69\n",
            "Episode 1100\tAverage Score: 304.36\n",
            "Episode 1200\tAverage Score: 355.24\n",
            "Episode 1300\tAverage Score: 343.53\n",
            "Episode 1400\tAverage Score: 338.79\n",
            "Episode 1500\tAverage Score: 313.32\n",
            "Episode 1600\tAverage Score: 322.16\n",
            "Episode 1700\tAverage Score: 322.52\n",
            "Episode 1800\tAverage Score: 322.77\n",
            "Episode 1900\tAverage Score: 323.37\n",
            "Episode 2000\tAverage Score: 324.69\n"
          ]
        }
      ],
      "source": [
        "scores_mb = Actor_Critic(cartpole_actor,\n",
        "                   cartpole_critic, cartpole_actorOptimizer,cartpole_criticOptimizer,\n",
        "                   cartpole_hyperparameters[\"n_training_episodes\"],\n",
        "                   cartpole_hyperparameters[\"max_t\"],\n",
        "                   cartpole_hyperparameters[\"gamma\"],\n",
        "                   100)"
      ]
    },
    {
      "cell_type": "code",
      "execution_count": 17,
      "metadata": {
        "colab": {
          "base_uri": "https://localhost:8080/"
        },
        "id": "P-ub_16d13YU",
        "outputId": "9bb64b4d-fcd9-4dc3-ca79-1facc878f367"
      },
      "outputs": [
        {
          "data": {
            "text/plain": [
              "count    2000.000000\n",
              "mean      285.676859\n",
              "std        95.648418\n",
              "min        71.395194\n",
              "25%       221.644593\n",
              "50%       293.140953\n",
              "75%       345.637991\n",
              "max       655.474166\n",
              "Name: scores_Actor, dtype: float64"
            ]
          },
          "execution_count": 17,
          "metadata": {},
          "output_type": "execute_result"
        }
      ],
      "source": [
        "scores_mb= pd.Series(scores_mb, name=\"scores_Actor\")\n",
        "scores_mb.describe()"
      ]
    },
    {
      "cell_type": "code",
      "execution_count": 18,
      "metadata": {
        "colab": {
          "base_uri": "https://localhost:8080/"
        },
        "id": "xOyl6VXmvLeB",
        "outputId": "5202d338-4d41-4e4f-ad0c-811b6d375964"
      },
      "outputs": [
        {
          "data": {
            "text/plain": [
              "0        76.181948\n",
              "1       147.829468\n",
              "2       112.593316\n",
              "3       121.956700\n",
              "4       139.008376\n",
              "           ...    \n",
              "1995    290.288998\n",
              "1996    283.477401\n",
              "1997    362.150814\n",
              "1998    311.650726\n",
              "1999    344.458405\n",
              "Name: scores_Actor, Length: 2000, dtype: float64"
            ]
          },
          "execution_count": 18,
          "metadata": {},
          "output_type": "execute_result"
        }
      ],
      "source": [
        "scores_mb"
      ]
    },
    {
      "cell_type": "code",
      "execution_count": 19,
      "metadata": {
        "colab": {
          "base_uri": "https://localhost:8080/",
          "height": 449
        },
        "id": "MBnfocxs13YV",
        "outputId": "d836ed98-a438-419d-e42b-e9539c016d89"
      },
      "outputs": [
        {
          "data": {
            "image/png": "[encoded data removed]",
            "text/plain": [
              "<Figure size 640x480 with 1 Axes>"
            ]
          },
          "metadata": {},
          "output_type": "display_data"
        }
      ],
      "source": [
        "fig, ax = plt.subplots(1, 1)\n",
        "_ = scores_mb.plot(ax=ax, label=\"scores_Actor\")\n",
        "_ = (scores_mb.rolling(window=100)\n",
        "           .mean()\n",
        "           .rename(\"Rolling Average\")\n",
        "           .plot(ax=ax))\n",
        "ax.legend()\n",
        "_ = ax.set_xlabel(\"Episode Number\")\n",
        "_ = ax.set_ylabel(\"scores_Actor\")"
      ]
    },
    {
      "cell_type": "code",
      "execution_count": 20,
      "metadata": {},
      "outputs": [],
      "source": [
        "import torch\n",
        "\n",
        "# Assuming 'model' is your trained PyTorch model\n",
        "actor_path = './'+ env_id+ '/actor.pth'\n",
        "torch.save(cartpole_actor, actor_path)\n",
        "critic_path = './'+ env_id+ '/critic.pth'\n",
        "torch.save(cartpole_critic, critic_path)\n"
      ]
    },
    {
      "cell_type": "code",
      "execution_count": 21,
      "metadata": {},
      "outputs": [],
      "source": [
        "import torch\n",
        "\n",
        "# Assuming 'model' is your trained PyTorch model\n",
        "actor_path = './'+ env_id+ '/actor_free.pth'\n",
        "torch.save(cartpole_actor, actor_path)\n",
        "critic_path = './'+ env_id+ '/critic_free.pth'\n",
        "torch.save(cartpole_critic, critic_path)"
      ]
    },
    {
      "cell_type": "code",
      "execution_count": 23,
      "metadata": {},
      "outputs": [
        {
          "name": "stderr",
          "output_type": "stream",
          "text": [
            "C:\\Users\\DELL\\AppData\\Local\\Temp\\ipykernel_10820\\2916603024.py:36: UserWarning: To copy construct from a tensor, it is recommended to use sourceTensor.clone().detach() or sourceTensor.clone().detach().requires_grad_(True), rather than torch.tensor(sourceTensor).\n",
            "  return torch.tensor(action), log_prob\n"
          ]
        },
        {
          "name": "stdout",
          "output_type": "stream",
          "text": [
            "78\n"
          ]
        }
      ],
      "source": [
        "import os\n",
        "import imageio\n",
        "import gym\n",
        "from base64 import b64encode\n",
        "from IPython.display import HTML\n",
        "\n",
        "def generate_trajectory_with_frames(actor, critic, env, max_t):\n",
        "    saved_log_probs = []\n",
        "    rewards = []\n",
        "    state_values = []\n",
        "\n",
        "    state, _ = env.reset()\n",
        "    frames = []  # List to store frames\n",
        "\n",
        "    for t in range(max_t):\n",
        "        state = torch.from_numpy(state)\n",
        "\n",
        "        action, log_prob = actor.act(state)\n",
        "\n",
        "        # get the state value from the critic network\n",
        "        state_val = critic(state)\n",
        "\n",
        "        next_state, reward, done, _, _ = env.step(action.numpy().astype(np.float32))\n",
        "        frames.append(env.render())\n",
        "\n",
        "        # add the obtained results to their relative lists ==> saved_log_probs, rewards, state_values\n",
        "        saved_log_probs.append(log_prob)\n",
        "        rewards.append(reward)\n",
        "        state_values.append(state_val)\n",
        "\n",
        "        state = next_state\n",
        "\n",
        "        if done:\n",
        "            break\n",
        "\n",
        "    return saved_log_probs, rewards, state_values, frames\n",
        "\n",
        "\n",
        "try:\n",
        "    os.environ[\"DISPLAY\"]\n",
        "except:\n",
        "    os.environ[\"SDL_VIDEODRIVER\"] = \"dummy\"\n",
        "\n",
        "env = gym.make(env_id, render_mode=\"rgb_array\")\n",
        "_, _, _, images = generate_trajectory_with_frames(cartpole_actor, cartpole_critic, env.unwrapped, 1000)\n",
        "print(len(images))\n",
        "\n",
        "def record_video(images, out_directory, fps=60):\n",
        "    imageio.mimsave(out_directory, [np.array(img) for i, img in enumerate(images)], fps=fps)\n",
        "\n",
        "# generate the video\n",
        "video_path = \"./replay\"+str(len(images))+\".mp4\"\n",
        "record_video(images, video_path, 10)\n"
      ]
    },
    {
      "cell_type": "markdown",
      "metadata": {},
      "source": []
    },
    {
      "cell_type": "code",
      "execution_count": null,
      "metadata": {},
      "outputs": [],
      "source": []
    }
  ],
  "metadata": {
    "colab": {
      "provenance": []
    },
    "kernelspec": {
      "display_name": "Python 3",
      "name": "python3"
    },
    "language_info": {
      "codemirror_mode": {
        "name": "ipython",
        "version": 3
      },
      "file_extension": ".py",
      "mimetype": "text/x-python",
      "name": "python",
      "nbconvert_exporter": "python",
      "pygments_lexer": "ipython3",
      "version": "3.10.7"
    }
  },
  "nbformat": 4,
  "nbformat_minor": 0
}
