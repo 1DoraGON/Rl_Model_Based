{
  "cells": [
    {
      "cell_type": "code",
      "execution_count": 1,
      "metadata": {
        "colab": {
          "base_uri": "https://localhost:8080/"
        },
        "id": "h4xWsBMp2W2O",
        "outputId": "4877ba13-8fc2-442e-b351-5814296d8114"
      },
      "outputs": [],
      "source": [
        "#!pip install gym[mujoco]"
      ]
    },
    {
      "cell_type": "markdown",
      "metadata": {
        "id": "djlzjO6Hm2jr"
      },
      "source": [
        "## Import Libraries"
      ]
    },
    {
      "cell_type": "code",
      "execution_count": 2,
      "metadata": {
        "id": "fnoQiOlb80Tw"
      },
      "outputs": [],
      "source": [
        "import numpy as np\n",
        "import pandas as pd\n",
        "from collections import deque\n",
        "import matplotlib.pyplot as plt\n",
        "\n",
        "# PyTorch\n",
        "import torch\n",
        "import torch.nn as nn\n",
        "import torch.nn.functional as F\n",
        "import torch.optim as optim\n",
        "from torch.distributions import Categorical\n",
        "import torch.distributions as distributions\n",
        "\n",
        "# Gym\n",
        "import gym\n"
      ]
    },
    {
      "cell_type": "markdown",
      "metadata": {
        "colab": {
          "base_uri": "https://localhost:8080/"
        },
        "id": "fMQ7cQCngC93",
        "outputId": "2716a53f-e497-4cd6-d3c5-66f36a7d51a9"
      },
      "source": [
        "## Setup the Environement"
      ]
    },
    {
      "cell_type": "code",
      "execution_count": 3,
      "metadata": {
        "colab": {
          "base_uri": "https://localhost:8080/"
        },
        "id": "zV9d4B3T3wEm",
        "outputId": "06509373-1348-4613-8fd1-97ae176c2474"
      },
      "outputs": [],
      "source": [
        "env_id = \"Humanoid-v4\"\n",
        "# Create the env-\n",
        "env = gym.make(env_id)\n",
        "\n",
        "# Create the evaluation env\n",
        "eval_env = gym.make(env_id)\n",
        "\n",
        "# Get the state space and action space\n",
        "s_size = env.observation_space.shape[0]\n",
        "a_size = env.action_space.shape[0]"
      ]
    },
    {
      "cell_type": "markdown",
      "metadata": {
        "collapsed": false,
        "id": "V4JTtj-B80Tw"
      },
      "source": [
        "## Define the Model-Based Model (Env Model)"
      ]
    },
    {
      "cell_type": "code",
      "execution_count": 4,
      "metadata": {
        "id": "1wdMmA7c1E4_"
      },
      "outputs": [],
      "source": [
        "class Model(nn.Module):\n",
        "    def __init__(self, state_size, action_size, hidden_size=64):\n",
        "        super(Model, self).__init__()\n",
        "\n",
        "        # Neural network layers\n",
        "        self.fc1 = nn.Linear(state_size + action_size, hidden_size)\n",
        "        self.fc2 = nn.Linear(hidden_size, hidden_size)\n",
        "        self.fc3 = nn.Linear(hidden_size, hidden_size)\n",
        "        self.fc_next_state = nn.Linear(hidden_size, state_size)\n",
        "        self.fc_reward = nn.Linear(hidden_size, 1)\n",
        "        self.fc_done = nn.Linear(hidden_size, 1)  # New output for 'done' prediction\n",
        "\n",
        "        self.double()\n",
        "\n",
        "\n",
        "    def forward(self, state, action):\n",
        "        # Concatenate state and action as input\n",
        "        x = torch.cat((state, action), dim=1)\n",
        "\n",
        "        # Forward pass through the network\n",
        "        x = F.relu(self.fc1(x))\n",
        "        x = F.relu(self.fc2(x))\n",
        "        x = F.relu(self.fc3(x))\n",
        "\n",
        "        # Predict next state and reward\n",
        "        next_state = self.fc_next_state(x)\n",
        "        reward = self.fc_reward(x)\n",
        "        done_prob = torch.sigmoid(self.fc_done(x))  # Use sigmoid to squash the output to [0, 1]\n",
        "\n",
        "        return next_state, reward, done_prob"
      ]
    },
    {
      "cell_type": "markdown",
      "metadata": {},
      "source": [
        "### Define The train_model Function for training the Model-Based Model"
      ]
    },
    {
      "cell_type": "code",
      "execution_count": 5,
      "metadata": {
        "id": "rLLVg8Hw1H_H"
      },
      "outputs": [],
      "source": [
        "def train_model(model_optimizer, model, state, action, next_state, reward, done):\n",
        "    # Convert inputs to PyTorch tensors if not already\n",
        "    state = torch.tensor(state, dtype=torch.double)\n",
        "    action = torch.tensor(action, dtype=torch.double)\n",
        "    next_state = torch.tensor(next_state, dtype=torch.double)\n",
        "    reward = torch.tensor(reward, dtype=torch.double)\n",
        "    done = torch.tensor(done, dtype=torch.double)\n",
        "\n",
        "    # Zero the gradients\n",
        "    model_optimizer.zero_grad()\n",
        "\n",
        "    # Forward pass: predict next state, reward, and done\n",
        "    predicted_next_state, predicted_reward, predicted_done = model(state, action)\n",
        "\n",
        "    # Compute the loss (e.g., mean squared error for predicted next state and reward)\n",
        "    next_state_loss = F.mse_loss(predicted_next_state, next_state)\n",
        "    reward_loss = F.mse_loss(predicted_reward, reward)\n",
        "    done_loss = F.binary_cross_entropy(predicted_done, done)  # Binary cross entropy for 'done' prediction\n",
        "\n",
        "    total_loss = next_state_loss + reward_loss + done_loss\n",
        "\n",
        "    # Backward pass\n",
        "    total_loss.backward()\n",
        "\n",
        "    # Update the model parameters\n",
        "    model_optimizer.step()"
      ]
    },
    {
      "cell_type": "markdown",
      "metadata": {},
      "source": [
        "### Gather the Environement data by interacting with it"
      ]
    },
    {
      "cell_type": "code",
      "execution_count": 6,
      "metadata": {
        "id": "p6A5Rp4XPV76"
      },
      "outputs": [
        {
          "name": "stderr",
          "output_type": "stream",
          "text": [
            "c:\\Users\\DELL\\AppData\\Local\\Programs\\Python\\Python310\\lib\\site-packages\\gym\\utils\\passive_env_checker.py:233: DeprecationWarning: `np.bool8` is a deprecated alias for `np.bool_`.  (Deprecated NumPy 1.24)\n",
            "  if not isinstance(terminated, (bool, np.bool8)):\n"
          ]
        },
        {
          "name": "stdout",
          "output_type": "stream",
          "text": [
            "5000\n",
            "10000\n",
            "15000\n",
            "20000\n",
            "25000\n",
            "30000\n"
          ]
        }
      ],
      "source": [
        "actions = []\n",
        "states = []\n",
        "next_states = []\n",
        "rewards = []\n",
        "dones = []\n",
        "\n",
        "for i in range(33000):\n",
        "    state, _ = env.reset()\n",
        "    done = 0  # Initialize done as False\n",
        "\n",
        "    while not done:\n",
        "        action = env.action_space.sample()\n",
        "        next_state, reward, done, _, _ = env.step(action)\n",
        "        states.append(state)\n",
        "        actions.append(action)\n",
        "        next_states.append(next_state)\n",
        "        rewards.append(reward)\n",
        "        dones.append(done)\n",
        "\n",
        "        state = next_state\n",
        "        if len(dones) % 5000 == 0:\n",
        "           print(len(dones))\n",
        "        if len(dones) ==33000:\n",
        "          break\n",
        "    if len(dones) ==33000:\n",
        "      break"
      ]
    },
    {
      "cell_type": "markdown",
      "metadata": {},
      "source": [
        "### Train The Model-Based Model using the gathered data"
      ]
    },
    {
      "cell_type": "code",
      "execution_count": 7,
      "metadata": {
        "colab": {
          "base_uri": "https://localhost:8080/",
          "height": 1000
        },
        "id": "pFW4vZds1nhM",
        "outputId": "0547781d-c2bb-4b33-9cd3-8df875ed2bdc"
      },
      "outputs": [
        {
          "name": "stderr",
          "output_type": "stream",
          "text": [
            "C:\\Users\\DELL\\AppData\\Local\\Temp\\ipykernel_12608\\3515353057.py:12: UserWarning: Creating a tensor from a list of numpy.ndarrays is extremely slow. Please consider converting the list to a single numpy.ndarray with numpy.array() before converting to a tensor. (Triggered internally at ..\\torch\\csrc\\utils\\tensor_new.cpp:264.)\n",
            "  states = torch.tensor(states, dtype=torch.double).to(device)\n",
            "C:\\Users\\DELL\\AppData\\Local\\Temp\\ipykernel_12608\\2065325240.py:3: UserWarning: To copy construct from a tensor, it is recommended to use sourceTensor.clone().detach() or sourceTensor.clone().detach().requires_grad_(True), rather than torch.tensor(sourceTensor).\n",
            "  state = torch.tensor(state, dtype=torch.double)\n",
            "C:\\Users\\DELL\\AppData\\Local\\Temp\\ipykernel_12608\\2065325240.py:4: UserWarning: To copy construct from a tensor, it is recommended to use sourceTensor.clone().detach() or sourceTensor.clone().detach().requires_grad_(True), rather than torch.tensor(sourceTensor).\n",
            "  action = torch.tensor(action, dtype=torch.double)\n",
            "C:\\Users\\DELL\\AppData\\Local\\Temp\\ipykernel_12608\\2065325240.py:5: UserWarning: To copy construct from a tensor, it is recommended to use sourceTensor.clone().detach() or sourceTensor.clone().detach().requires_grad_(True), rather than torch.tensor(sourceTensor).\n",
            "  next_state = torch.tensor(next_state, dtype=torch.double)\n",
            "C:\\Users\\DELL\\AppData\\Local\\Temp\\ipykernel_12608\\2065325240.py:6: UserWarning: To copy construct from a tensor, it is recommended to use sourceTensor.clone().detach() or sourceTensor.clone().detach().requires_grad_(True), rather than torch.tensor(sourceTensor).\n",
            "  reward = torch.tensor(reward, dtype=torch.double)\n",
            "C:\\Users\\DELL\\AppData\\Local\\Temp\\ipykernel_12608\\2065325240.py:7: UserWarning: To copy construct from a tensor, it is recommended to use sourceTensor.clone().detach() or sourceTensor.clone().detach().requires_grad_(True), rather than torch.tensor(sourceTensor).\n",
            "  done = torch.tensor(done, dtype=torch.double)\n",
            "C:\\Users\\DELL\\AppData\\Local\\Temp\\ipykernel_12608\\2065325240.py:17: UserWarning: Using a target size (torch.Size([64])) that is different to the input size (torch.Size([64, 1])). This will likely lead to incorrect results due to broadcasting. Please ensure they have the same size.\n",
            "  reward_loss = F.mse_loss(predicted_reward, reward)\n",
            "C:\\Users\\DELL\\AppData\\Local\\Temp\\ipykernel_12608\\2065325240.py:17: UserWarning: Using a target size (torch.Size([32])) that is different to the input size (torch.Size([32, 1])). This will likely lead to incorrect results due to broadcasting. Please ensure they have the same size.\n",
            "  reward_loss = F.mse_loss(predicted_reward, reward)\n",
            "C:\\Users\\DELL\\AppData\\Local\\Temp\\ipykernel_12608\\3515353057.py:54: UserWarning: Using a target size (torch.Size([26400])) that is different to the input size (torch.Size([26400, 1])). This will likely lead to incorrect results due to broadcasting. Please ensure they have the same size.\n",
            "  train_reward_loss = F.mse_loss(train_predicted_rewards, train_rewards)\n",
            "C:\\Users\\DELL\\AppData\\Local\\Temp\\ipykernel_12608\\3515353057.py:63: UserWarning: Using a target size (torch.Size([6600])) that is different to the input size (torch.Size([6600, 1])). This will likely lead to incorrect results due to broadcasting. Please ensure they have the same size.\n",
            "  val_reward_loss = F.mse_loss(val_predicted_rewards, val_rewards)\n"
          ]
        },
        {
          "name": "stdout",
          "output_type": "stream",
          "text": [
            "Epoch 1/50, Training Loss: 581.7590, Validation Loss: 601.1636\n",
            "Epoch 2/50, Training Loss: 577.5886, Validation Loss: 605.7704\n",
            "Epoch 3/50, Training Loss: 531.8367, Validation Loss: 579.8612\n",
            "Epoch 4/50, Training Loss: 526.5992, Validation Loss: 534.2549\n",
            "Epoch 5/50, Training Loss: 506.1873, Validation Loss: 476.7390\n",
            "Epoch 6/50, Training Loss: 482.0870, Validation Loss: 504.9386\n",
            "Epoch 7/50, Training Loss: 469.9731, Validation Loss: 494.6928\n",
            "Epoch 8/50, Training Loss: 447.5132, Validation Loss: 509.2949\n",
            "Epoch 9/50, Training Loss: 424.2333, Validation Loss: 482.1858\n",
            "Epoch 10/50, Training Loss: 439.4108, Validation Loss: 476.0829\n",
            "Epoch 11/50, Training Loss: 413.6374, Validation Loss: 437.0284\n",
            "Epoch 12/50, Training Loss: 417.1894, Validation Loss: 457.8970\n",
            "Epoch 13/50, Training Loss: 377.7783, Validation Loss: 390.2152\n",
            "Epoch 14/50, Training Loss: 389.6014, Validation Loss: 455.9851\n",
            "Epoch 15/50, Training Loss: 416.8500, Validation Loss: 430.2939\n",
            "Epoch 16/50, Training Loss: 379.5596, Validation Loss: 404.6106\n",
            "Epoch 17/50, Training Loss: 364.4665, Validation Loss: 378.4172\n",
            "Epoch 18/50, Training Loss: 370.8717, Validation Loss: 409.9890\n",
            "Epoch 19/50, Training Loss: 355.3238, Validation Loss: 387.7849\n",
            "Epoch 20/50, Training Loss: 355.6226, Validation Loss: 387.1642\n",
            "Epoch 21/50, Training Loss: 346.9662, Validation Loss: 369.6959\n",
            "Epoch 22/50, Training Loss: 341.4886, Validation Loss: 364.1597\n",
            "Epoch 23/50, Training Loss: 341.5106, Validation Loss: 351.9500\n",
            "Epoch 24/50, Training Loss: 334.2775, Validation Loss: 369.0074\n",
            "Epoch 25/50, Training Loss: 336.9709, Validation Loss: 361.4295\n",
            "Epoch 26/50, Training Loss: 323.1609, Validation Loss: 351.4451\n",
            "Epoch 27/50, Training Loss: 319.1431, Validation Loss: 333.5356\n",
            "Epoch 28/50, Training Loss: 306.5523, Validation Loss: 349.2999\n",
            "Epoch 29/50, Training Loss: 309.1763, Validation Loss: 324.2940\n",
            "Epoch 30/50, Training Loss: 312.3855, Validation Loss: 321.6853\n",
            "Epoch 31/50, Training Loss: 299.2853, Validation Loss: 314.1222\n",
            "Epoch 32/50, Training Loss: 302.5186, Validation Loss: 320.9327\n",
            "Epoch 33/50, Training Loss: 306.7900, Validation Loss: 321.3532\n",
            "Epoch 34/50, Training Loss: 302.9161, Validation Loss: 326.3481\n",
            "Epoch 35/50, Training Loss: 298.5794, Validation Loss: 321.9182\n",
            "Epoch 36/50, Training Loss: 287.0373, Validation Loss: 315.0168\n",
            "Epoch 37/50, Training Loss: 292.4761, Validation Loss: 306.5471\n",
            "Epoch 38/50, Training Loss: 291.6472, Validation Loss: 306.5255\n",
            "Epoch 39/50, Training Loss: 309.8617, Validation Loss: 322.6195\n",
            "Epoch 40/50, Training Loss: 295.4709, Validation Loss: 294.7168\n",
            "Epoch 41/50, Training Loss: 281.7243, Validation Loss: 313.0024\n",
            "Epoch 42/50, Training Loss: 283.0355, Validation Loss: 305.7786\n",
            "Epoch 43/50, Training Loss: 290.0808, Validation Loss: 300.4547\n",
            "Epoch 44/50, Training Loss: 280.4437, Validation Loss: 312.9293\n",
            "Epoch 45/50, Training Loss: 287.5868, Validation Loss: 308.9613\n",
            "Epoch 46/50, Training Loss: 282.4027, Validation Loss: 281.1985\n",
            "Epoch 47/50, Training Loss: 271.7796, Validation Loss: 318.2721\n",
            "Epoch 48/50, Training Loss: 272.1516, Validation Loss: 302.1111\n",
            "Epoch 49/50, Training Loss: 301.0657, Validation Loss: 323.6792\n",
            "Epoch 50/50, Training Loss: 293.9252, Validation Loss: 296.6023\n"
          ]
        },
        {
          "data": {
            "image/png": "[encoded data removed]",
            "text/plain": [
              "<Figure size 640x480 with 1 Axes>"
            ]
          },
          "metadata": {},
          "output_type": "display_data"
        }
      ],
      "source": [
        "device = torch.device(\"cuda\" if torch.cuda.is_available() else \"cpu\")\n",
        "\n",
        "hidden_size = 64\n",
        "learning_rate = 1e-2\n",
        "batch_size = 64\n",
        "epochs = 50\n",
        "# Model instantiation\n",
        "model = Model(s_size, a_size, hidden_size).to(device)\n",
        "model_optimizer = optim.Adam(model.parameters(), lr=learning_rate)\n",
        "\n",
        "# Convert data to PyTorch tensors\n",
        "states = torch.tensor(states, dtype=torch.double).to(device)\n",
        "actions = torch.tensor(actions, dtype=torch.double).to(device)\n",
        "next_states = torch.tensor(next_states, dtype=torch.double).to(device)\n",
        "rewards = torch.tensor(rewards, dtype=torch.double).to(device)\n",
        "# Convert done data to PyTorch tensor\n",
        "dones = torch.tensor(dones, dtype=torch.double).to(device)\n",
        "\n",
        "# Training and validation loop\n",
        "history = {'train_loss': [], 'val_loss': []}\n",
        "\n",
        "for epoch in range(epochs):\n",
        "    # Shuffle the data before each epoch if needed\n",
        "    indices = torch.randperm(states.size(0))\n",
        "    states_shuffled = states[indices]\n",
        "    actions_shuffled = actions[indices]\n",
        "    next_states_shuffled = next_states[indices]\n",
        "    rewards_shuffled = rewards[indices]\n",
        "    dones_shuffled = dones[indices]  # Add shuffled dones\n",
        "\n",
        "    # Split the data into training and validation sets (adjust the ratio as needed)\n",
        "    split_idx = int(0.8 * len(states_shuffled))\n",
        "    train_states, val_states = states_shuffled[:split_idx], states_shuffled[split_idx:]\n",
        "    train_actions, val_actions = actions_shuffled[:split_idx], actions_shuffled[split_idx:]\n",
        "    train_next_states, val_next_states = next_states_shuffled[:split_idx], next_states_shuffled[split_idx:]\n",
        "    train_rewards, val_rewards = rewards_shuffled[:split_idx], rewards_shuffled[split_idx:]\n",
        "    train_dones, val_dones = dones_shuffled[:split_idx], dones_shuffled[split_idx:]  # Add split dones\n",
        "\n",
        "    # Train the model using the train_model function\n",
        "    for i in range(0, len(train_states), batch_size):\n",
        "        batch_states = train_states[i:i + batch_size]\n",
        "        batch_actions = train_actions[i:i + batch_size]\n",
        "        batch_next_states = train_next_states[i:i + batch_size]\n",
        "        batch_rewards = train_rewards[i:i + batch_size]\n",
        "        batch_dones = train_dones[i:i + batch_size]  # Add batch dones\n",
        "        # Add a dummy dimension to match the size of predicted 'done'\n",
        "        batch_dones = batch_dones.unsqueeze(1)\n",
        "        train_model(model_optimizer, model, batch_states, batch_actions, batch_next_states, batch_rewards, batch_dones)\n",
        "\n",
        "    # Calculate and store training loss\n",
        "    with torch.no_grad():\n",
        "        train_predicted_next_states, train_predicted_rewards, train_predicted_dones = model(train_states, train_actions)\n",
        "        train_next_state_loss = F.mse_loss(train_predicted_next_states, train_next_states)\n",
        "        train_reward_loss = F.mse_loss(train_predicted_rewards, train_rewards)\n",
        "        train_done_loss = F.binary_cross_entropy(train_predicted_dones.squeeze(), train_dones)\n",
        "        train_total_loss = train_next_state_loss + train_reward_loss + train_done_loss\n",
        "        history['train_loss'].append(train_total_loss.item())\n",
        "\n",
        "    # Calculate and store validation loss\n",
        "    with torch.no_grad():\n",
        "        val_predicted_next_states, val_predicted_rewards, val_predicted_dones = model(val_states, val_actions)\n",
        "        val_next_state_loss = F.mse_loss(val_predicted_next_states, val_next_states)\n",
        "        val_reward_loss = F.mse_loss(val_predicted_rewards, val_rewards)\n",
        "        val_done_loss = F.binary_cross_entropy(val_predicted_dones.squeeze(), val_dones)\n",
        "        val_total_loss = val_next_state_loss + val_reward_loss + val_done_loss\n",
        "        history['val_loss'].append(val_total_loss.item())\n",
        "\n",
        "    # Print the number of epochs and the training loss\n",
        "    print(f'Epoch {epoch + 1}/{epochs}, Training Loss: {train_total_loss.item():.4f}, Validation Loss: {val_total_loss.item():.4f}')\n",
        "\n",
        "# Save the trained model if needed\n",
        "torch.save(model.state_dict(), 'trained_model.pth')\n",
        "\n",
        "# Plot the training and validation losses\n",
        "plt.plot(history['train_loss'], label='Training Loss')\n",
        "plt.plot(history['val_loss'], label='Validation Loss')\n",
        "plt.xlabel('Epochs')\n",
        "plt.ylabel('Loss')\n",
        "plt.legend()\n",
        "plt.show()"
      ]
    },
    {
      "cell_type": "markdown",
      "metadata": {
        "collapsed": false,
        "id": "f-e1X_FB80Tx"
      },
      "source": [
        "# Agent: Playing MuJoCo Games 🤖\n",
        "### Please Check The Gym Website for more info about the following Envs\n",
        "\n",
        "- Walker2d\n",
        "- Hopper\n",
        "- Humanoid\n",
        "- HumanoidStandup\n",
        "- InvertedDoublePendulum"
      ]
    },
    {
      "cell_type": "markdown",
      "metadata": {
        "collapsed": false,
        "id": "0k5aFS7r80Tx"
      },
      "source": [
        "## Let's build the A2C algo\n"
      ]
    },
    {
      "cell_type": "code",
      "execution_count": 8,
      "metadata": {
        "id": "KHRw6g8Y80Ty"
      },
      "outputs": [],
      "source": [
        "#Using a neural network to learn our actor (policy) parameters\n",
        "\n",
        "class Actor(nn.Module):\n",
        "    def __init__(self, s_size, a_size, h_size):\n",
        "        super(Actor, self).__init__()\n",
        "        self.fc1 = nn.Linear(s_size, h_size, dtype=torch.float32)\n",
        "        self.fc2 = nn.Linear(h_size, a_size, dtype=torch.float32)\n",
        "        self.double()\n",
        "\n",
        "    def forward(self, x):\n",
        "        x = F.relu(self.fc1(x))\n",
        "        x = torch.tanh(self.fc2(x))  # Apply tanh activation for bounded output in [-1, 1]\n",
        "        return x\n",
        "\n",
        "    def act(self, state):\n",
        "        # print('here here')\n",
        "        # print(state)\n",
        "        mean = self.forward(state)\n",
        "        # print('mean')\n",
        "        # print(mean)\n",
        "        std_dev = torch.ones_like(mean)  # You might want to learn a parameter for the standard deviation as well\n",
        "        # print(std_dev)\n",
        "        distribution = distributions.Normal(mean, std_dev)\n",
        "        # print(distribution)\n",
        "\n",
        "        action = distribution.sample()\n",
        "        # print('action')\n",
        "        # print(action)\n",
        "        action = torch.clamp(action, -1.0, 1.0)  # Ensure actions are within the valid range\n",
        "\n",
        "        # print('log_prob')\n",
        "        log_prob = distribution.log_prob(action)\n",
        "        # print(log_prob)\n",
        "\n",
        "        # print(log_prob)\n",
        "        return torch.tensor(action), log_prob"
      ]
    },
    {
      "cell_type": "code",
      "execution_count": 9,
      "metadata": {
        "id": "kiUrZ8K980Ty"
      },
      "outputs": [],
      "source": [
        "#Using a neural network to learn state value\n",
        "class Critic(nn.Module):\n",
        "\n",
        "    #Takes in state\n",
        "    def __init__(self, s_size, h_size):\n",
        "        super(Critic, self).__init__()\n",
        "\n",
        "        # two fully connected layers\n",
        "        # add code here\n",
        "        self.input_layer = nn.Linear(s_size, h_size)\n",
        "        # add code here\n",
        "        self.output_layer = nn.Linear(h_size, 1)\n",
        "        self.double()\n",
        "\n",
        "    def forward(self, x):\n",
        "\n",
        "        #input layer\n",
        "        x = self.input_layer(x)\n",
        "\n",
        "        #activiation relu\n",
        "        x = F.relu(x)\n",
        "\n",
        "        #get state value\n",
        "        state_value = self.output_layer(x)\n",
        "\n",
        "        return state_value\n"
      ]
    },
    {
      "cell_type": "code",
      "execution_count": 10,
      "metadata": {
        "id": "DBXD2cIz80Tz"
      },
      "outputs": [],
      "source": [
        "def computer_cumulative_reward(rewards, max_t,gamma):\n",
        "        returns = deque(maxlen=max_t)\n",
        "        n_steps = len(rewards)\n",
        "        for t in range(n_steps)[::-1]:\n",
        "          disc_return_t = (returns[0] if len(returns)>0 else 0)\n",
        "          returns.appendleft( rewards[t]+gamma*disc_return_t)\n",
        "        return returns"
      ]
    },
    {
      "cell_type": "code",
      "execution_count": 11,
      "metadata": {
        "id": "7_nsP5_880Tz"
      },
      "outputs": [],
      "source": [
        "def returns_standardization(returns):\n",
        "        eps = np.finfo(np.float32).eps.item()\n",
        "        ## eps is the smallest representable float, which is\n",
        "        # added to the standard deviation of the returns to avoid numerical instabilities\n",
        "        returns = torch.tensor(returns)\n",
        "        returns = (returns - returns.mean()) / (returns.std() + eps)\n",
        "\n",
        "        return returns"
      ]
    },
    {
      "cell_type": "code",
      "execution_count": 12,
      "metadata": {
        "id": "QpALI-3X80Tz"
      },
      "outputs": [],
      "source": [
        "def train_critic(criticOptimizer, returns,state_values):\n",
        "        # print(11)\n",
        "        state_values= torch.stack(state_values).squeeze()\n",
        "        # print(12)\n",
        "\n",
        "        critic_loss= F.mse_loss(torch.tensor(returns), state_values.squeeze())\n",
        "        #critic_loss = critic_loss.float().clone()\n",
        "\n",
        "        # print(critic_loss.dtype)\n",
        "\n",
        "        # Backpropagate crtic\n",
        "        criticOptimizer.zero_grad()\n",
        "        critic_loss.backward()\n",
        "        # print(14)\n",
        "        criticOptimizer.step()\n"
      ]
    },
    {
      "cell_type": "code",
      "execution_count": 70,
      "metadata": {
        "id": "W3kNSEkQ80T0"
      },
      "outputs": [],
      "source": [
        "hyperparameters = {\n",
        "    \"h_size\": 64,\n",
        "    \"n_training_episodes\": 2000,\n",
        "    \"n_evaluation_episodes\": 10,\n",
        "    \"max_t\": 1000,\n",
        "    \"gamma\": 1.0,\n",
        "    \"lr\": 1e-2,\n",
        "    \"env_id\": env_id,\n",
        "    \"state_space\": s_size,\n",
        "    \"action_space\": a_size,\n",
        "}"
      ]
    },
    {
      "cell_type": "code",
      "execution_count": 71,
      "metadata": {},
      "outputs": [],
      "source": [
        "def train_actor(actorOptimizer,saved_log_probs, returns,state_values):\n",
        "\n",
        "\n",
        "        # print('train actor ---------------------')\n",
        "        #state_values = state_values\n",
        "        state_values= torch.stack(state_values).squeeze()\n",
        "        # print(state_values)\n",
        "        #calculate Advantage for actor\n",
        "        advantages = returns - state_values\n",
        "        advantages = [g - val for g, val in zip(returns,state_values)]\n",
        "\n",
        "        #convect the advantages to a tensor\n",
        "        advantages = torch.Tensor(advantages).to(device)\n",
        "\n",
        "        actor_loss = []\n",
        "        # compute the actor loss\n",
        "        # add code here\n",
        "        # print(saved_log_probs)\n",
        "        for log_prob, advantage in zip(saved_log_probs, advantages):\n",
        "          actor_loss.append(-log_prob * advantage)\n",
        "          # print('Adv:', advantage)\n",
        "          # print('Dimensions:', log_prob.shape, advantage.shape)\n",
        "\n",
        "\n",
        "        # print(actor_loss)\n",
        "        # print('we are reaching this 0')\n",
        "        actor_loss = torch.cat(actor_loss).sum()\n",
        "        # print('we are reaching this 1')\n",
        "        actorOptimizer.zero_grad()\n",
        "        # print('we are reaching this 2')\n",
        "        actor_loss.backward()\n",
        "        # print('we are not reaching this 3')\n",
        "        actorOptimizer.step()\n",
        "        # print('we are not reaching this 4')"
      ]
    },
    {
      "cell_type": "code",
      "execution_count": 72,
      "metadata": {
        "id": "MN3YHinKg93u"
      },
      "outputs": [],
      "source": [
        "def generate_trajectory_mb(actor, critic, model, max_t):\n",
        "        saved_log_probs = []\n",
        "        rewards = []\n",
        "        rewards2 = []\n",
        "        state_values=[]\n",
        "\n",
        "        state, _ = env.reset()\n",
        "        # print(11)\n",
        "        for t in range(max_t):\n",
        "            #state=torch.from_numpy(state).float().unsqueeze(0).to(device)\n",
        "            state = torch.from_numpy(state)\n",
        "            if t==0:\n",
        "              state = state.unsqueeze(0)\n",
        "\n",
        "\n",
        "\n",
        "            #state = torch.from_numpy(state)\n",
        "            contains_inf = torch.isinf(state).any()\n",
        "            if contains_inf:\n",
        "              break\n",
        "\n",
        "            action, log_prob =  actor.act(state)\n",
        "\n",
        "            has_nan = torch.isnan(action).any().item()\n",
        "            if has_nan:\n",
        "              break\n",
        "            #action = torch.from_numpy(action).float().unsqueeze(0).to(device)\n",
        "\n",
        "            # get the state value from th critic network\n",
        "            state_val= critic(state)#!!!!!!!!!\n",
        "\n",
        "            next_state, reward, done = model(state,action)\n",
        "            _, reward2, done2, _, _ = env.step(action.numpy().astype(np.float32)[0])\n",
        "\n",
        "\n",
        "            threshold = 0.4\n",
        "            #done_sigmoid = torch.sigmoid(done)\n",
        "            done = done > threshold\n",
        "            next_state = next_state.detach().numpy()\n",
        "            reward = reward.detach().numpy()[0]\n",
        "\n",
        "            # add te obtained results to their relative lists ==> saved_log_probs, rewards, state_values\n",
        "\n",
        "            # add code here\n",
        "            saved_log_probs.append(log_prob.squeeze(0))\n",
        "            # add code here\n",
        "            rewards.append(reward[0])\n",
        "            rewards2.append(reward2)\n",
        "            # add code here\n",
        "            state_values.append(state_val.squeeze(0))\n",
        "\n",
        "            state=next_state\n",
        "            if done | done2 :\n",
        "              break\n",
        "\n",
        "        return  saved_log_probs, rewards, rewards2, state_values"
      ]
    },
    {
      "cell_type": "code",
      "execution_count": 73,
      "metadata": {
        "id": "NlCgsMqji_z_"
      },
      "outputs": [],
      "source": [
        "def Actor_Critic_mb(actor,critic, model, actorOptimizer,criticOptimizer, n_training_episodes, max_t, gamma, print_every):\n",
        "    # Help us to calculate the score during the training\n",
        "    scores_deque = deque(maxlen=100)\n",
        "    scores_deque2 = deque(maxlen=100)\n",
        "    scores = []\n",
        "    scores2 = []\n",
        "\n",
        "    for i_episode in range(1, n_training_episodes+1):\n",
        "\n",
        "        # Generate an episode\n",
        "        #add code here\n",
        "        # print('---____----EPISODE---____----- ',i_episode)\n",
        "        \n",
        "        try:\n",
        "            \n",
        "            saved_log_probs, rewards, rewards2, state_values = generate_trajectory_mb(actor, critic, model, max_t)\n",
        "        except Exception as e:\n",
        "            # Code to handle other exceptions\n",
        "            \n",
        "            print(f\"Unexpected error: {e}\")\n",
        "            continue\n",
        "        # print(len(state_values), '------LENGTH---------')\n",
        "        # print(2)\n",
        "        scores_deque.append(sum(rewards))\n",
        "        scores.append(sum(rewards))\n",
        "        scores_deque2.append(sum(rewards2))\n",
        "        scores2.append(sum(rewards2))\n",
        "        # print('rewards')\n",
        "        # print(rewards)\n",
        "        # print('scores')\n",
        "        # print(scores)\n",
        "        # calculate the return\n",
        "        returns = computer_cumulative_reward(rewards,max_t,gamma)\n",
        "        # print(3)\n",
        "\n",
        "        ## standardization of the returns is employed to make training more stable\n",
        "        returns=returns_standardization(returns)\n",
        "\n",
        "        # Train the Critic network\n",
        "        #add code here\n",
        "        train_critic(criticOptimizer, returns,state_values)\n",
        "        # print(5)\n",
        "\n",
        "        # Train the Actor network\n",
        "        #add code here\n",
        "        train_actor(actorOptimizer,saved_log_probs, returns,state_values)\n",
        "        # print(6)\n",
        "\n",
        "\n",
        "\n",
        "        if i_episode % print_every == 0:\n",
        "            print('Episode {}\\tAverage Score: {:.2f}'.format(i_episode, np.mean(scores_deque)))\n",
        "            print('Real Env Episode {}\\tAverage Score: {:.2f}'.format(i_episode, np.mean(scores_deque2)))\n",
        "\n",
        "    return scores, scores2"
      ]
    },
    {
      "cell_type": "code",
      "execution_count": 74,
      "metadata": {
        "id": "4pNbbTOu13YR"
      },
      "outputs": [],
      "source": [
        "# Create actor and place it to the device\n",
        "actor = Actor(hyperparameters['state_space'],hyperparameters['action_space'],hyperparameters['h_size'])\n",
        "\n",
        "actorOptimizer = torch.optim.Adam(actor.parameters())"
      ]
    },
    {
      "cell_type": "code",
      "execution_count": 75,
      "metadata": {
        "id": "SosfWk8c13YT"
      },
      "outputs": [],
      "source": [
        "# Create critic and place it to the device\n",
        "critic = Critic(hyperparameters['state_space'],hyperparameters['h_size'])\n",
        "criticOptimizer = torch.optim.Adam(critic.parameters())"
      ]
    },
    {
      "cell_type": "code",
      "execution_count": null,
      "metadata": {
        "id": "PPDFrMc4s9_z"
      },
      "outputs": [],
      "source": []
    },
    {
      "cell_type": "code",
      "execution_count": 76,
      "metadata": {
        "colab": {
          "base_uri": "https://localhost:8080/"
        },
        "id": "dTZzesUs13YU",
        "outputId": "30fd1f41-be0a-47d7-dc29-18ddfa824d4d"
      },
      "outputs": [
        {
          "name": "stderr",
          "output_type": "stream",
          "text": [
            "C:\\Users\\DELL\\AppData\\Local\\Temp\\ipykernel_12608\\2916603024.py:36: UserWarning: To copy construct from a tensor, it is recommended to use sourceTensor.clone().detach() or sourceTensor.clone().detach().requires_grad_(True), rather than torch.tensor(sourceTensor).\n",
            "  return torch.tensor(action), log_prob\n",
            "c:\\Users\\DELL\\AppData\\Local\\Programs\\Python\\Python310\\lib\\site-packages\\gym\\utils\\passive_env_checker.py:233: DeprecationWarning: `np.bool8` is a deprecated alias for `np.bool_`.  (Deprecated NumPy 1.24)\n",
            "  if not isinstance(terminated, (bool, np.bool8)):\n",
            "C:\\Users\\DELL\\AppData\\Local\\Temp\\ipykernel_12608\\2860296727.py:6: UserWarning: To copy construct from a tensor, it is recommended to use sourceTensor.clone().detach() or sourceTensor.clone().detach().requires_grad_(True), rather than torch.tensor(sourceTensor).\n",
            "  critic_loss= F.mse_loss(torch.tensor(returns), state_values.squeeze())\n"
          ]
        },
        {
          "name": "stdout",
          "output_type": "stream",
          "text": [
            "Episode 100\tAverage Score: 88.00\n",
            "Real Env Episode 100\tAverage Score: 89.28\n",
            "Episode 200\tAverage Score: 152.24\n",
            "Real Env Episode 200\tAverage Score: 157.20\n",
            "Episode 300\tAverage Score: 189.73\n",
            "Real Env Episode 300\tAverage Score: 193.43\n",
            "Episode 400\tAverage Score: 211.97\n",
            "Real Env Episode 400\tAverage Score: 219.52\n",
            "Episode 500\tAverage Score: 222.03\n",
            "Real Env Episode 500\tAverage Score: 225.53\n",
            "Episode 600\tAverage Score: 219.24\n",
            "Real Env Episode 600\tAverage Score: 220.77\n",
            "Episode 700\tAverage Score: 212.72\n",
            "Real Env Episode 700\tAverage Score: 213.37\n",
            "Episode 800\tAverage Score: 196.81\n",
            "Real Env Episode 800\tAverage Score: 198.71\n",
            "Episode 900\tAverage Score: 227.56\n",
            "Real Env Episode 900\tAverage Score: 228.47\n",
            "Episode 1000\tAverage Score: 219.76\n",
            "Real Env Episode 1000\tAverage Score: 222.20\n",
            "Episode 1100\tAverage Score: 222.56\n",
            "Real Env Episode 1100\tAverage Score: 221.06\n",
            "Episode 1200\tAverage Score: 211.71\n",
            "Real Env Episode 1200\tAverage Score: 204.48\n",
            "Episode 1300\tAverage Score: 205.89\n",
            "Real Env Episode 1300\tAverage Score: 197.42\n",
            "Episode 1400\tAverage Score: 213.28\n",
            "Real Env Episode 1400\tAverage Score: 205.71\n",
            "Episode 1500\tAverage Score: 216.37\n",
            "Real Env Episode 1500\tAverage Score: 209.00\n",
            "Episode 1600\tAverage Score: 224.20\n",
            "Real Env Episode 1600\tAverage Score: 219.43\n",
            "Episode 1700\tAverage Score: 214.90\n",
            "Real Env Episode 1700\tAverage Score: 213.95\n",
            "Episode 1800\tAverage Score: 214.03\n",
            "Real Env Episode 1800\tAverage Score: 215.31\n",
            "Episode 1900\tAverage Score: 222.97\n",
            "Real Env Episode 1900\tAverage Score: 226.08\n",
            "Episode 2000\tAverage Score: 236.87\n",
            "Real Env Episode 2000\tAverage Score: 239.54\n"
          ]
        }
      ],
      "source": [
        "scores_mb, scores_mb2 = Actor_Critic_mb(actor,\n",
        "                   critic, model, actorOptimizer,criticOptimizer,\n",
        "                   hyperparameters[\"n_training_episodes\"],\n",
        "                   hyperparameters[\"max_t\"],\n",
        "                   hyperparameters[\"gamma\"],\n",
        "                   100)"
      ]
    },
    {
      "cell_type": "code",
      "execution_count": 77,
      "metadata": {
        "colab": {
          "base_uri": "https://localhost:8080/"
        },
        "id": "P-ub_16d13YU",
        "outputId": "9bb64b4d-fcd9-4dc3-ca79-1facc878f367"
      },
      "outputs": [
        {
          "data": {
            "text/plain": [
              "count    2000.000000\n",
              "mean      206.142752\n",
              "std        73.980392\n",
              "min        71.088279\n",
              "25%       152.983503\n",
              "50%       209.719301\n",
              "75%       256.392457\n",
              "max       579.712133\n",
              "Name: scores_Actor, dtype: float64"
            ]
          },
          "execution_count": 77,
          "metadata": {},
          "output_type": "execute_result"
        }
      ],
      "source": [
        "scores_mb= pd.Series(scores_mb, name=\"scores_Actor\")\n",
        "scores_mb.describe()"
      ]
    },
    {
      "cell_type": "code",
      "execution_count": 78,
      "metadata": {
        "colab": {
          "base_uri": "https://localhost:8080/"
        },
        "id": "xOyl6VXmvLeB",
        "outputId": "5202d338-4d41-4e4f-ad0c-811b6d375964"
      },
      "outputs": [
        {
          "data": {
            "text/plain": [
              "0       135.375022\n",
              "1        75.965467\n",
              "2        86.398744\n",
              "3        77.780829\n",
              "4        82.385667\n",
              "           ...    \n",
              "1995    201.173655\n",
              "1996    205.365100\n",
              "1997    198.888042\n",
              "1998    107.224964\n",
              "1999    247.391635\n",
              "Name: scores_Actor, Length: 2000, dtype: float64"
            ]
          },
          "execution_count": 78,
          "metadata": {},
          "output_type": "execute_result"
        }
      ],
      "source": [
        "scores_mb"
      ]
    },
    {
      "cell_type": "code",
      "execution_count": 79,
      "metadata": {
        "colab": {
          "base_uri": "https://localhost:8080/",
          "height": 449
        },
        "id": "MBnfocxs13YV",
        "outputId": "d836ed98-a438-419d-e42b-e9539c016d89"
      },
      "outputs": [
        {
          "data": {
            "image/png": "[encoded data removed]",
            "text/plain": [
              "<Figure size 640x480 with 1 Axes>"
            ]
          },
          "metadata": {},
          "output_type": "display_data"
        }
      ],
      "source": [
        "fig, ax = plt.subplots(1, 1)\n",
        "_ = scores_mb.plot(ax=ax, label=\"scores_Actor\")\n",
        "_ = (scores_mb.rolling(window=100)\n",
        "           .mean()\n",
        "           .rename(\"Rolling Average\")\n",
        "           .plot(ax=ax))\n",
        "ax.legend()\n",
        "_ = ax.set_xlabel(\"Episode Number\")\n",
        "_ = ax.set_ylabel(\"scores_Actor\")"
      ]
    },
    {
      "cell_type": "code",
      "execution_count": null,
      "metadata": {
        "colab": {
          "base_uri": "https://localhost:8080/"
        },
        "id": "EM5uKIrasp1L",
        "outputId": "252ee434-0966-43e2-e6bd-7136412d4a43"
      },
      "outputs": [],
      "source": []
    },
    {
      "cell_type": "code",
      "execution_count": 80,
      "metadata": {
        "colab": {
          "base_uri": "https://localhost:8080/"
        },
        "id": "xLqX0lvWlJZ-",
        "outputId": "09486397-4462-4766-c485-144381613b47"
      },
      "outputs": [
        {
          "data": {
            "text/plain": [
              "count    2000.000000\n",
              "mean      206.022026\n",
              "std        72.640208\n",
              "min        71.513001\n",
              "25%       155.472951\n",
              "50%       208.035812\n",
              "75%       253.458061\n",
              "max       568.012021\n",
              "Name: scores_Actor, dtype: float64"
            ]
          },
          "execution_count": 80,
          "metadata": {},
          "output_type": "execute_result"
        }
      ],
      "source": [
        "scores_mb2= pd.Series(scores_mb2, name=\"scores_Actor\")\n",
        "scores_mb2.describe()"
      ]
    },
    {
      "cell_type": "code",
      "execution_count": 81,
      "metadata": {
        "colab": {
          "base_uri": "https://localhost:8080/",
          "height": 504
        },
        "id": "5jjSzrS5lF4d",
        "outputId": "864339a6-c6bf-46fb-ebf1-2c6b6195ff73"
      },
      "outputs": [
        {
          "data": {
            "image/png": "[encoded data removed]",
            "text/plain": [
              "<Figure size 640x480 with 1 Axes>"
            ]
          },
          "metadata": {},
          "output_type": "display_data"
        }
      ],
      "source": [
        "fig, ax = plt.subplots(1, 1)\n",
        "_ = scores_mb2.plot(ax=ax, label=\"scores_Actor\")\n",
        "_ = (scores_mb2.rolling(window=100)\n",
        "           .mean()\n",
        "           .rename(\"Rolling Average\")\n",
        "           .plot(ax=ax))\n",
        "ax.legend()\n",
        "_ = ax.set_xlabel(\"Episode Number\")\n",
        "_ = ax.set_ylabel(\"scores_Actor\")"
      ]
    },
    {
      "cell_type": "code",
      "execution_count": 82,
      "metadata": {},
      "outputs": [],
      "source": [
        "import torch\n",
        "\n",
        "# Assuming 'model' is your trained PyTorch model\n",
        "actor_path = './'+ env_id+ '/actor.pth'\n",
        "torch.save(actor, actor_path)\n",
        "critic_path = './'+ env_id+ '/critic.pth'\n",
        "torch.save(critic, critic_path)\n"
      ]
    },
    {
      "cell_type": "code",
      "execution_count": 83,
      "metadata": {},
      "outputs": [],
      "source": [
        "import torch\n",
        "\n",
        "# Assuming 'model' is your trained PyTorch model\n",
        "actor_path = './'+ env_id+ '/actor_m.pth'\n",
        "torch.save(actor, actor_path)\n",
        "critic_path = './'+ env_id+ '/critic_m.pth'\n",
        "torch.save(critic, critic_path)"
      ]
    },
    {
      "cell_type": "code",
      "execution_count": 84,
      "metadata": {},
      "outputs": [
        {
          "name": "stderr",
          "output_type": "stream",
          "text": [
            "C:\\Users\\DELL\\AppData\\Local\\Temp\\ipykernel_12608\\2916603024.py:36: UserWarning: To copy construct from a tensor, it is recommended to use sourceTensor.clone().detach() or sourceTensor.clone().detach().requires_grad_(True), rather than torch.tensor(sourceTensor).\n",
            "  return torch.tensor(action), log_prob\n"
          ]
        },
        {
          "name": "stdout",
          "output_type": "stream",
          "text": [
            "1\n",
            "1\n",
            "1\n",
            "1\n",
            "1\n",
            "1\n",
            "1\n",
            "1\n",
            "1\n",
            "1\n",
            "1\n",
            "1\n",
            "1\n",
            "1\n",
            "1\n",
            "1\n",
            "1\n",
            "1\n",
            "1\n",
            "1\n",
            "1\n",
            "1\n",
            "1\n",
            "1\n",
            "1\n",
            "1\n",
            "1\n",
            "1\n",
            "1\n",
            "1\n",
            "1\n",
            "1\n",
            "1\n",
            "1\n",
            "1\n",
            "1\n",
            "1\n",
            "1\n",
            "1\n",
            "1\n",
            "1\n",
            "1\n",
            "1\n",
            "1\n",
            "1\n",
            "1\n",
            "1\n",
            "1\n",
            "1\n",
            "1\n",
            "1\n",
            "1\n",
            "1\n",
            "1\n",
            "1\n",
            "1\n",
            "1\n",
            "1\n",
            "1\n",
            "1\n",
            "1\n",
            "1\n",
            "1\n",
            "1\n",
            "1\n",
            "1\n",
            "1\n",
            "1\n",
            "1\n",
            "1\n",
            "1\n",
            "1\n",
            "1\n",
            "1\n",
            "1\n",
            "1\n",
            "1\n",
            "1\n",
            "1\n",
            "1\n",
            "1\n",
            "1\n",
            "1\n",
            "1\n",
            "1\n",
            "1\n",
            "1\n",
            "1\n",
            "1\n",
            "1\n",
            "1\n",
            "1\n",
            "1\n",
            "1\n",
            "1\n",
            "1\n",
            "1\n",
            "1\n",
            "1\n",
            "1\n",
            "1\n"
          ]
        }
      ],
      "source": [
        "import os\n",
        "import imageio\n",
        "import gym\n",
        "from base64 import b64encode\n",
        "from IPython.display import HTML\n",
        "\n",
        "def generate_trajectory_with_frames(actor, critic, env, max_t):\n",
        "    saved_log_probs = []\n",
        "    rewards = []\n",
        "    state_values = []\n",
        "\n",
        "    state, _ = env.reset()\n",
        "    frames = []  # List to store frames\n",
        "    # print(11)\n",
        "    for t in range(max_t):\n",
        "        #state=torch.from_numpy(state).float().unsqueeze(0).to(device)\n",
        "  \n",
        "        if t==0:\n",
        "            state = torch.from_numpy(state)\n",
        "            state = state.unsqueeze(0)\n",
        "\n",
        "\n",
        "\n",
        "        #state = torch.from_numpy(state)\n",
        "        contains_inf = torch.isinf(state).any()\n",
        "        if contains_inf:\n",
        "            break\n",
        "\n",
        "        action, log_prob =  actor.act(state)\n",
        "\n",
        "        has_nan = torch.isnan(action).any().item()\n",
        "        if has_nan:\n",
        "            break\n",
        "\n",
        "        action, log_prob = actor.act(state)\n",
        "\n",
        "        # get the state value from the critic network\n",
        "        state_val = critic(state)\n",
        "\n",
        "        #next_state, reward, done, _, _ = env.step(action.numpy().astype(np.float32))\n",
        "        next_state, reward, done = model(state,action)\n",
        "        # print('action')\n",
        "        # print(action[0])\n",
        "        _, reward2, done2, _, _ = env.step(action.numpy().astype(np.float32)[0])\n",
        "        frames.append(env.render())\n",
        "\n",
        "        # add the obtained results to their relative lists ==> saved_log_probs, rewards, state_values\n",
        "        saved_log_probs.append(log_prob)\n",
        "        rewards.append(reward)\n",
        "        state_values.append(state_val)\n",
        "\n",
        "        state = next_state\n",
        "\n",
        "        if done:\n",
        "            break\n",
        "\n",
        "    return saved_log_probs, rewards, state_values, frames\n",
        "\n",
        "\n",
        "try:\n",
        "    os.environ[\"DISPLAY\"]\n",
        "except:\n",
        "    os.environ[\"SDL_VIDEODRIVER\"] = \"dummy\"\n",
        "\n",
        "env = gym.make(env_id, render_mode=\"rgb_array\")\n",
        "_, _, _, images = generate_trajectory_with_frames(actor, critic, env.unwrapped, 1000)\n",
        "print(len(images))\n",
        "\n",
        "def record_video(images, out_directory, fps=10):\n",
        "    imageio.mimsave(out_directory, [np.array(img) for i, img in enumerate(images)], fps=fps)\n",
        "\n",
        "# generate the video\n",
        "for i in range(100):\n",
        "    _, _, _, images = generate_trajectory_with_frames(actor, critic, env.unwrapped, 1000)\n",
        "    print(len(images))\n",
        "    video_path = \"./\"+env_id+\"/\"+str(len(images))+\".mp4\"\n",
        "    record_video(images, video_path, 5)\n"
      ]
    },
    {
      "cell_type": "code",
      "execution_count": null,
      "metadata": {},
      "outputs": [],
      "source": []
    }
  ],
  "metadata": {
    "colab": {
      "provenance": []
    },
    "kernelspec": {
      "display_name": "Python 3",
      "name": "python3"
    },
    "language_info": {
      "codemirror_mode": {
        "name": "ipython",
        "version": 3
      },
      "file_extension": ".py",
      "mimetype": "text/x-python",
      "name": "python",
      "nbconvert_exporter": "python",
      "pygments_lexer": "ipython3",
      "version": "3.10.7"
    }
  },
  "nbformat": 4,
  "nbformat_minor": 0
}
